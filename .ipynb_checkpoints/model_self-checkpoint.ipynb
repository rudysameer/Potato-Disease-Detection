{
 "cells": [
  {
   "cell_type": "code",
   "execution_count": 3,
   "id": "8ec2bd4d-2ae5-47a7-9d3d-2bfb6220f8b1",
   "metadata": {},
   "outputs": [],
   "source": [
    "import tensorflow as tf\n",
    "from tensorflow.keras import models,layers\n",
    "import matplotlib.pyplot as plt"
   ]
  },
  {
   "cell_type": "code",
   "execution_count": 41,
   "id": "f3e74e5f-6607-4877-9659-3cfb2e4750da",
   "metadata": {},
   "outputs": [],
   "source": [
    "IMAGE_SIZE = 256 #since the image has 256*256 pixels\n",
    "BATCH_SIZE = 32 #32 is the stamdard size\n",
    "CHANNELS = 3\n"
   ]
  },
  {
   "cell_type": "markdown",
   "id": "85f334d6-b68b-4a41-b30e-76535d3b61bf",
   "metadata": {},
   "source": [
    "### Data PIPELINING\n",
    "- loading and filtering the data from the directory\n",
    "- found 3 classes from the directory which is early,late,healthy and total 2152 images"
   ]
  },
  {
   "cell_type": "code",
   "execution_count": 15,
   "id": "4360d1ad-365c-45fc-a821-44b52fc9f323",
   "metadata": {},
   "outputs": [
    {
     "name": "stdout",
     "output_type": "stream",
     "text": [
      "Found 2152 files belonging to 3 classes.\n"
     ]
    }
   ],
   "source": [
    "dataset = tf.keras.preprocessing.image_dataset_from_directory(\n",
    "    \"Datas/PlantVillage\",\n",
    "    shuffle=True,\n",
    "    image_size = (IMAGE_SIZE,IMAGE_SIZE),\n",
    "    batch_size =  BATCH_SIZE\n",
    "        \n",
    ")"
   ]
  },
  {
   "cell_type": "code",
   "execution_count": 19,
   "id": "98a0049a-a060-4243-81d8-94f392ae7727",
   "metadata": {},
   "outputs": [
    {
     "data": {
      "text/plain": [
       "['early_blight', 'healthy', 'late_blight']"
      ]
     },
     "execution_count": 19,
     "metadata": {},
     "output_type": "execute_result"
    }
   ],
   "source": [
    "class_names = dataset.class_names # retrieving the class_names(y_train) from the dataset\n",
    "class_names"
   ]
  },
  {
   "cell_type": "code",
   "execution_count": 23,
   "id": "6295520b-f35c-4cd4-b565-fa2403cbebd1",
   "metadata": {},
   "outputs": [
    {
     "data": {
      "text/plain": [
       "68"
      ]
     },
     "execution_count": 23,
     "metadata": {},
     "output_type": "execute_result"
    }
   ],
   "source": [
    "len(dataset)"
   ]
  },
  {
   "cell_type": "markdown",
   "id": "68d645d1-439c-4c2f-bf98-078a6a6ae651",
   "metadata": {},
   "source": [
    "### Length of the dataset is 68 . Why\n",
    "- #### the 68 is batch number\n",
    "- and each batch contains 32 images exept for the last one\n",
    "- 32*68 = 2176\n",
    "- we have 2152 images meaning the last batch contains only 8 images\n"
   ]
  },
  {
   "cell_type": "markdown",
   "id": "f0f322f7-2f5e-4573-9394-755f5af63c02",
   "metadata": {},
   "source": [
    "### Looping in the dataset returns image_data(x_train) and actual_image_label(y_train)"
   ]
  },
  {
   "cell_type": "code",
   "execution_count": 37,
   "id": "3246f2c4-5043-4d1c-a1a4-321611e247b8",
   "metadata": {},
   "outputs": [
    {
     "name": "stdout",
     "output_type": "stream",
     "text": [
      "Image batch first shape  (32, 256, 256, 3)\n",
      "Image batch first  tf.Tensor([111.  85.  94.], shape=(3,), dtype=float32)\n",
      "label_batch [2 0 2 0 0 0 0 0 2 0 0 2 2 0 0 1 0 2 2 0 1 2 2 2 0 0 0 2 2 0 2 0]\n"
     ]
    }
   ],
   "source": [
    "for image_batch,label_batch in dataset.take(1):\n",
    "    print(\"Image batch first shape \",image_batch.shape)\n",
    "    print(\"Image batch first \",image_batch[0][0][0])\n",
    "    print(\"label_batch\",label_batch.numpy())"
   ]
  },
  {
   "cell_type": "markdown",
   "id": "8bd93c87-be72-482d-bc74-141ebdb5cef8",
   "metadata": {},
   "source": [
    "#### The shape contains (each_batch_number, x_pixel, y_pixel, RGB_channels)\n",
    "- image_batch contains the actual data of the images in 3d array of RGB channels\n",
    "- label_batch contains actual value(y_train) which can be converted in numpy\n",
    "- #### 0=early_blight, 1 = healthy, 2 = late_blight"
   ]
  },
  {
   "cell_type": "markdown",
   "id": "80e9dca4-ec05-428c-87de-18c8587ac91e",
   "metadata": {},
   "source": [
    "## IMAGE VISUALIZATION"
   ]
  },
  {
   "cell_type": "code",
   "execution_count": null,
   "id": "9ebf2d4d-dbfb-4355-ab45-9a1a742aad4e",
   "metadata": {},
   "outputs": [],
   "source": []
  }
 ],
 "metadata": {
  "kernelspec": {
   "display_name": "Python [conda env:base] *",
   "language": "python",
   "name": "conda-base-py"
  },
  "language_info": {
   "codemirror_mode": {
    "name": "ipython",
    "version": 3
   },
   "file_extension": ".py",
   "mimetype": "text/x-python",
   "name": "python",
   "nbconvert_exporter": "python",
   "pygments_lexer": "ipython3",
   "version": "3.12.7"
  }
 },
 "nbformat": 4,
 "nbformat_minor": 5
}
