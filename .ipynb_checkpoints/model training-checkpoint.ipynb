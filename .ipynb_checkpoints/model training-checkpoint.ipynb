{
 "cells": [
  {
   "cell_type": "code",
   "execution_count": 1,
   "id": "bb09c360-bf7b-43f5-baaf-257f1d04231a",
   "metadata": {},
   "outputs": [],
   "source": [
    "\n",
    "import os\n",
    "from PIL import Image\n",
    "import numpy as np"
   ]
  },
  {
   "cell_type": "code",
   "execution_count": 3,
   "id": "abbb6461-168d-447b-a6df-2fd43fecb264",
   "metadata": {},
   "outputs": [],
   "source": [
    "IMAGE_SIZE = 256\n",
    "CHANNELS = 3\n",
    "DATASET_PATH = \"PlantVillage\""
   ]
  },
  {
   "cell_type": "code",
   "execution_count": 19,
   "id": "3c61acd3-2c94-412e-b62d-0704c7468354",
   "metadata": {},
   "outputs": [],
   "source": [
    "class_names =['healthy',\n",
    "    'early_blight',\n",
    "    'late_blight']"
   ]
  },
  {
   "cell_type": "code",
   "execution_count": 21,
   "id": "c43ea7d6-c593-4c65-97ad-f6295d4e9904",
   "metadata": {},
   "outputs": [],
   "source": [
    "#label Mapping\n",
    "label_map = {\n",
    "    'healthy': 0,\n",
    "    'early_blight': 1,\n",
    "    'late_blight': 2\n",
    "}"
   ]
  },
  {
   "cell_type": "code",
   "execution_count": 23,
   "id": "0dbc7712-a364-4732-bb27-d92d5064c489",
   "metadata": {},
   "outputs": [],
   "source": [
    "#storage\n",
    "images = []\n",
    "labels =[]"
   ]
  },
  {
   "cell_type": "code",
   "execution_count": 25,
   "id": "7f530484-d415-4f6f-a5fe-010a6a5371ea",
   "metadata": {},
   "outputs": [
    {
     "name": "stdout",
     "output_type": "stream",
     "text": [
      "Class Names: ['healthy', 'early_blight', 'late_blight']\n",
      "Images shape: (2152, 256, 256, 3)\n",
      "Labels shape: (2152,)\n"
     ]
    }
   ],
   "source": [
    "for class_name in class_names:\n",
    "    class_folder = os.path.join(DATASET_PATH, class_name)\n",
    "    label = label_map[class_name]\n",
    "\n",
    "    for file_name in os.listdir(class_folder):\n",
    "        file_path = os.path.join(class_folder, file_name)\n",
    "\n",
    "        try:\n",
    "            # Open, resize, convert to RGB\n",
    "            img = Image.open(file_path).convert('RGB')\n",
    "            img = img.resize((IMAGE_SIZE, IMAGE_SIZE))\n",
    "\n",
    "            # Convert to array and normalize\n",
    "            img_array = np.asarray(img, dtype=np.float32) / 255.0\n",
    "\n",
    "            # Store image and label\n",
    "            images.append(img_array)\n",
    "            labels.append(label)\n",
    "\n",
    "        except Exception as e:\n",
    "            print(f\"Skipping image {file_path}: {e}\")\n",
    "\n",
    "# Convert to numpy arrays\n",
    "images = np.array(images)\n",
    "labels = np.array(labels)\n",
    "\n",
    "print(\"Class Names:\", class_names)\n",
    "print(\"Images shape:\", images.shape)\n",
    "print(\"Labels shape:\", labels.shape)"
   ]
  },
  {
   "cell_type": "code",
   "execution_count": 27,
   "id": "e2a6b18f-4305-48c6-b8ed-6497b3a08dde",
   "metadata": {},
   "outputs": [
    {
     "name": "stdout",
     "output_type": "stream",
     "text": [
      "Image batch shape: (32, 256, 256, 3)\n",
      "Labels batch: [0 0 0 0 0 0 0 0 0 0 0 0 0 0 0 0 0 0 0 0 0 0 0 0 0 0 0 0 0 0 0 0]\n"
     ]
    }
   ],
   "source": [
    "\n",
    "BATCH_SIZE = 32\n",
    "\n",
    "# Take first batch of 32 images and labels\n",
    "image_batch = images[:BATCH_SIZE]\n",
    "labels_batch = labels[:BATCH_SIZE]\n",
    "\n",
    "# Print shape of image batch\n",
    "print(\"Image batch shape:\", image_batch.shape)  # Should be (32, 256, 256, 3)\n",
    "\n",
    "# Print labels of this batch\n",
    "print(\"Labels batch:\", labels_batch)"
   ]
  },
  {
   "cell_type": "code",
   "execution_count": null,
   "id": "4dbcd5c0-11cf-4c26-bff7-1e2868dfcf56",
   "metadata": {},
   "outputs": [],
   "source": []
  }
 ],
 "metadata": {
  "kernelspec": {
   "display_name": "Python [conda env:base] *",
   "language": "python",
   "name": "conda-base-py"
  },
  "language_info": {
   "codemirror_mode": {
    "name": "ipython",
    "version": 3
   },
   "file_extension": ".py",
   "mimetype": "text/x-python",
   "name": "python",
   "nbconvert_exporter": "python",
   "pygments_lexer": "ipython3",
   "version": "3.12.7"
  }
 },
 "nbformat": 4,
 "nbformat_minor": 5
}
